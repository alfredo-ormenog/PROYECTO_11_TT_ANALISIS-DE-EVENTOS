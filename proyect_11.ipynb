{
 "cells": [
  {
   "cell_type": "markdown",
   "metadata": {},
   "source": [
    "# PROYECTO 11 - ANALISIS BASADO EN EVENTOS"
   ]
  },
  {
   "cell_type": "markdown",
   "metadata": {},
   "source": [
    "El proyecto se basará en el estudio de una empresa que vende productos alimenticios. El objetivo es investigar el comportamiento del usuario para la aplicación de la empresa."
   ]
  },
  {
   "cell_type": "markdown",
   "metadata": {},
   "source": [
    "### Paso 1. Abrir el archivo de datos y leer la información general"
   ]
  },
  {
   "cell_type": "code",
   "execution_count": 1,
   "metadata": {},
   "outputs": [],
   "source": [
    "# Importación de librerías necesarias para trabajar:\n",
    "import pandas as pd\n",
    "import numpy as np \n",
    "import scipy as sp\n",
    "from scipy import stats as st\n",
    "import matplotlib.pyplot as plt\n",
    "import seaborn as sns\n",
    "from datetime import datetime\n",
    "import datetime as dt\n",
    "from scipy import stats\n",
    "import plotly.express as px"
   ]
  },
  {
   "cell_type": "code",
   "execution_count": 7,
   "metadata": {},
   "outputs": [
    {
     "data": {
      "text/html": [
       "<div>\n",
       "<style scoped>\n",
       "    .dataframe tbody tr th:only-of-type {\n",
       "        vertical-align: middle;\n",
       "    }\n",
       "\n",
       "    .dataframe tbody tr th {\n",
       "        vertical-align: top;\n",
       "    }\n",
       "\n",
       "    .dataframe thead th {\n",
       "        text-align: right;\n",
       "    }\n",
       "</style>\n",
       "<table border=\"1\" class=\"dataframe\">\n",
       "  <thead>\n",
       "    <tr style=\"text-align: right;\">\n",
       "      <th></th>\n",
       "      <th>EventName</th>\n",
       "      <th>DeviceIDHash</th>\n",
       "      <th>EventTimestamp</th>\n",
       "      <th>ExpId</th>\n",
       "    </tr>\n",
       "  </thead>\n",
       "  <tbody>\n",
       "    <tr>\n",
       "      <th>0</th>\n",
       "      <td>MainScreenAppear</td>\n",
       "      <td>4575588528974610257</td>\n",
       "      <td>1564029816</td>\n",
       "      <td>246</td>\n",
       "    </tr>\n",
       "    <tr>\n",
       "      <th>1</th>\n",
       "      <td>MainScreenAppear</td>\n",
       "      <td>7416695313311560658</td>\n",
       "      <td>1564053102</td>\n",
       "      <td>246</td>\n",
       "    </tr>\n",
       "    <tr>\n",
       "      <th>2</th>\n",
       "      <td>PaymentScreenSuccessful</td>\n",
       "      <td>3518123091307005509</td>\n",
       "      <td>1564054127</td>\n",
       "      <td>248</td>\n",
       "    </tr>\n",
       "    <tr>\n",
       "      <th>3</th>\n",
       "      <td>CartScreenAppear</td>\n",
       "      <td>3518123091307005509</td>\n",
       "      <td>1564054127</td>\n",
       "      <td>248</td>\n",
       "    </tr>\n",
       "    <tr>\n",
       "      <th>4</th>\n",
       "      <td>PaymentScreenSuccessful</td>\n",
       "      <td>6217807653094995999</td>\n",
       "      <td>1564055322</td>\n",
       "      <td>248</td>\n",
       "    </tr>\n",
       "  </tbody>\n",
       "</table>\n",
       "</div>"
      ],
      "text/plain": [
       "                 EventName         DeviceIDHash  EventTimestamp ExpId\n",
       "0         MainScreenAppear  4575588528974610257      1564029816   246\n",
       "1         MainScreenAppear  7416695313311560658      1564053102   246\n",
       "2  PaymentScreenSuccessful  3518123091307005509      1564054127   248\n",
       "3         CartScreenAppear  3518123091307005509      1564054127   248\n",
       "4  PaymentScreenSuccessful  6217807653094995999      1564055322   248"
      ]
     },
     "metadata": {},
     "output_type": "display_data"
    },
    {
     "name": "stdout",
     "output_type": "stream",
     "text": [
      "Cantidad de filas es:  244126\n",
      "La estructura del dataset es:  (244126, 4)\n",
      "Tipo de datos:\n",
      "\n",
      "Información estadística del dataset:\n",
      "<class 'pandas.core.frame.DataFrame'>\n",
      "RangeIndex: 244126 entries, 0 to 244125\n",
      "Data columns (total 4 columns):\n",
      " #   Column          Non-Null Count   Dtype   \n",
      "---  ------          --------------   -----   \n",
      " 0   EventName       244126 non-null  category\n",
      " 1   DeviceIDHash    244126 non-null  int64   \n",
      " 2   EventTimestamp  244126 non-null  int64   \n",
      " 3   ExpId           244126 non-null  category\n",
      "dtypes: category(2), int64(2)\n",
      "memory usage: 4.2 MB\n"
     ]
    }
   ],
   "source": [
    "#lectura e información del dataframe:\n",
    "\n",
    "logs = pd.read_csv('logs_exp_us.csv', sep= '\\s+', header=0,\n",
    "                   dtype={'EventName':'category' , 'ExpId':'category'})\n",
    "\n",
    "display(logs.head())\n",
    "print(\"Cantidad de filas es: \", len(logs))\n",
    "print(\"La estructura del dataset es: \", logs.shape)\n",
    "print(\"Tipo de datos:\")\n",
    "logs.dtypes\n",
    "print()\n",
    "print(\"Información estadística del dataset:\")\n",
    "logs.info(memory_usage=\"deep\")"
   ]
  },
  {
   "cell_type": "markdown",
   "metadata": {},
   "source": [
    "A primera instancia con este DF logs, obtenemos que esta compuesto por cuatro columnas con nombres que no están bien definidos para seguir o continuar una praxis correcta. Por otro lado, podemos apreciar que el conteo de los no nulos por la información del dataset sería de cero. Finalmente, cada entrada de registro es una acción de usuario o un evento.\n",
    "+ EventName: nombre del evento.\n",
    "+ DeviceIDHash: identificador de usuario unívoco.\n",
    "+ EventTimestamp: hora del evento.\n",
    "+ ExpId: número de experimento: 246 y 247 son los grupos de control, 248 es el grupo de prueba."
   ]
  },
  {
   "cell_type": "markdown",
   "metadata": {},
   "source": [
    "### Paso 2. Preparar los datos para el análisis"
   ]
  },
  {
   "cell_type": "markdown",
   "metadata": {},
   "source": [
    "####  2.1 Cambia el nombre de las columnas y comprueba si hay tipos de datos y valores ausentes."
   ]
  },
  {
   "cell_type": "code",
   "execution_count": null,
   "metadata": {},
   "outputs": [],
   "source": []
  },
  {
   "cell_type": "code",
   "execution_count": null,
   "metadata": {},
   "outputs": [],
   "source": []
  },
  {
   "cell_type": "code",
   "execution_count": null,
   "metadata": {},
   "outputs": [],
   "source": []
  },
  {
   "cell_type": "code",
   "execution_count": null,
   "metadata": {},
   "outputs": [],
   "source": []
  }
 ],
 "metadata": {
  "kernelspec": {
   "display_name": "myenv",
   "language": "python",
   "name": "python3"
  },
  "language_info": {
   "codemirror_mode": {
    "name": "ipython",
    "version": 3
   },
   "file_extension": ".py",
   "mimetype": "text/x-python",
   "name": "python",
   "nbconvert_exporter": "python",
   "pygments_lexer": "ipython3",
   "version": "3.11.5"
  }
 },
 "nbformat": 4,
 "nbformat_minor": 2
}
